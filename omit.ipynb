{
 "cells": [
  {
   "cell_type": "code",
   "execution_count": 6,
   "metadata": {},
   "outputs": [
    {
     "name": "stdout",
     "output_type": "stream",
     "text": [
      "The most common words (excluding common English words) have been saved to most_common_filtered_words.txt\n"
     ]
    },
    {
     "name": "stderr",
     "output_type": "stream",
     "text": [
      "[nltk_data] Downloading package stopwords to /Users/lalit/nltk_data...\n",
      "[nltk_data]   Package stopwords is already up-to-date!\n"
     ]
    }
   ],
   "source": [
    "from collections import Counter\n",
    "import re\n",
    "import nltk\n",
    "from nltk.corpus import stopwords\n",
    "\n",
    "# Ensure you have the stopwords downloaded\n",
    "nltk.download('stopwords')\n",
    "\n",
    "# Get the list of English stopwords\n",
    "stop_words = set(stopwords.words('english'))\n",
    "\n",
    "# Step 1: Read the file\n",
    "file_path = 'reviews.txt'\n",
    "with open(file_path, 'r', encoding='utf-8') as file:\n",
    "    text = file.read()\n",
    "\n",
    "# Step 2: Tokenize the text into words\n",
    "# Convert text to lowercase and use regular expressions to extract words\n",
    "words = re.findall(r'\\b\\w+\\b', text.lower())\n",
    "\n",
    "# Step 3: Filter out common English stopwords\n",
    "filtered_words = [word for word in words if word not in stop_words]\n",
    "\n",
    "# Step 4: Count the frequency of each word\n",
    "word_counts = Counter(filtered_words)\n",
    "\n",
    "# Step 5: Identify the most common words\n",
    "most_common_words = word_counts.most_common(20)  # Get the top 10 most common words\n",
    "\n",
    "# Step 6: Save the unique results to a new file\n",
    "output_file_path = 'most_common_filtered_words.txt'\n",
    "with open(output_file_path, 'w', encoding='utf-8') as output_file:\n",
    "    # output_file.write()\n",
    "    for word, _ in most_common_words:\n",
    "        output_file.write(f\"{word}\\n\")\n",
    "\n",
    "print(f\"The most common words (excluding common English words) have been saved to {output_file_path}\")\n"
   ]
  }
 ],
 "metadata": {
  "kernelspec": {
   "display_name": "Python 3",
   "language": "python",
   "name": "python3"
  },
  "language_info": {
   "codemirror_mode": {
    "name": "ipython",
    "version": 3
   },
   "file_extension": ".py",
   "mimetype": "text/x-python",
   "name": "python",
   "nbconvert_exporter": "python",
   "pygments_lexer": "ipython3",
   "version": "3.12.3"
  }
 },
 "nbformat": 4,
 "nbformat_minor": 2
}
